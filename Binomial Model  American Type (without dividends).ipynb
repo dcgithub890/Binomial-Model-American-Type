{
 "cells": [
  {
   "cell_type": "code",
   "execution_count": 1,
   "id": "af3af0f2",
   "metadata": {},
   "outputs": [],
   "source": [
    "import numpy as np"
   ]
  },
  {
   "cell_type": "code",
   "execution_count": 2,
   "id": "a5845ef5",
   "metadata": {},
   "outputs": [],
   "source": [
    "S0 = 100\n",
    "K = 100\n",
    "r = 0.06\n",
    "T = 1\n",
    "N = 3\n",
    "dt= T/N\n",
    "u = 1.1\n",
    "d = 1/u\n",
    "Optiontype = \"P\""
   ]
  },
  {
   "cell_type": "markdown",
   "id": "f5234730",
   "metadata": {},
   "source": [
    "# From Bottom to top array Approach"
   ]
  },
  {
   "cell_type": "code",
   "execution_count": 3,
   "id": "ae0fadc0",
   "metadata": {},
   "outputs": [],
   "source": [
    "def Binomial_tree_AM_S_BT(S0,K,r,T,N,u,d,Optiontype = \"P\"):\n",
    "    dt = T/N\n",
    "    q = (np.exp(r*dt)-d)/(u-d)\n",
    "    disc = np.exp((-r)*dt)\n",
    "    \n",
    "    #Stock proces st maturity\n",
    "    S = np.zeros(N+1)\n",
    "    for j in range(0,N+1):\n",
    "        S[j] = S0*(u**j)*(d**(N-j))\n",
    "        \n",
    "    print(S)\n",
    "    \n",
    "    #Option Payoffs\n",
    "    P = np.zeros(N+1)\n",
    "    for j in range(0,N+1):\n",
    "        P[j] = max(K-S[j],0)\n",
    "    print(P)\n",
    "        \n",
    "    #Backward discounting pricing\n",
    "    for i in np.arange(N-1,-1,-1):\n",
    "        for j in range(0,i+1):\n",
    "            S = S0 * (u**j) * (d**(i-j))\n",
    "            \n",
    "            P[j] = disc*(q*P[j+1]+(1-q)*P[j])\n",
    "            \n",
    "            P[j] = max(P[j], (K-S))\n",
    "        print(P)\n",
    "    \n",
    "    \n",
    "    return P[0]"
   ]
  },
  {
   "cell_type": "code",
   "execution_count": 24,
   "id": "0db6df62",
   "metadata": {},
   "outputs": [
    {
     "name": "stdout",
     "output_type": "stream",
     "text": [
      "[ 75.13148009  90.90909091 110.         133.1       ]\n",
      "[24.86851991  9.09090909  0.          0.        ]\n",
      "[17.3553719   3.72469241  0.          0.        ]\n",
      "[9.23564829 1.52606669 0.         0.        ]\n",
      "[4.65458875 1.52606669 0.         0.        ]\n"
     ]
    },
    {
     "data": {
      "text/plain": [
       "4.654588754602527"
      ]
     },
     "execution_count": 24,
     "metadata": {},
     "output_type": "execute_result"
    }
   ],
   "source": [
    "Binomial_tree_AM_S_BT(S0,K,r,T,3,u,d,Optiontype = \"P\")"
   ]
  },
  {
   "cell_type": "markdown",
   "id": "9bc4d66f",
   "metadata": {},
   "source": [
    "# From Top to Bottom Array Approach"
   ]
  },
  {
   "cell_type": "code",
   "execution_count": 21,
   "id": "06fa9096",
   "metadata": {},
   "outputs": [],
   "source": [
    "def Binomial_tree_AM_S_TB(S0,K,r,T,N,u,d,Optiontype = \"P\"):\n",
    "    dt = T/N\n",
    "    q = (np.exp(r*dt)-d)/(u-d)\n",
    "    disc = np.exp((-r)*dt)\n",
    "    \n",
    "    #Stock proces st maturity\n",
    "    S = np.zeros(N+1)\n",
    "    for j in np.arange(N,-1,-1):\n",
    "        S[j] = S0 *(u**(N-j))*(d**j)\n",
    "        print(S[j])\n",
    "        \n",
    "    print(S)\n",
    "    \n",
    "    #Option Payoffs\n",
    "    P = np.zeros(N+1)\n",
    "    for j in np.arange(N,-1,-1):\n",
    "        P[j] = max(K-S[j],0)\n",
    "    print(P)\n",
    "        \n",
    "    #Backward discounting pricing\n",
    "    for i in np.arange(N-1,-1,-1):\n",
    "        for j in np.arange(i,-1,-1):\n",
    "            S = S0 * (u**j) * (d**(i-j))\n",
    "            \n",
    "            P[i-j] = disc*(q*P[i-j]+(1-q)*P[i-j+1])\n",
    "            \n",
    "            P[i-j] = max(P[i-j], (K-S))\n",
    "        print(P)\n",
    "    \n",
    "    \n",
    "    return P[0]"
   ]
  },
  {
   "cell_type": "code",
   "execution_count": 23,
   "id": "d7e93961",
   "metadata": {},
   "outputs": [
    {
     "name": "stdout",
     "output_type": "stream",
     "text": [
      "75.13148009015777\n",
      "90.9090909090909\n",
      "110.00000000000001\n",
      "133.10000000000005\n",
      "[133.1        110.          90.90909091  75.13148009]\n",
      "[ 0.          0.          9.09090909 24.86851991]\n",
      "[ 0.          3.72469241 17.3553719  24.86851991]\n",
      "[ 1.52606669  9.23564829 17.3553719  24.86851991]\n",
      "[ 4.65458875  9.23564829 17.3553719  24.86851991]\n"
     ]
    },
    {
     "data": {
      "text/plain": [
       "4.654588754602527"
      ]
     },
     "execution_count": 23,
     "metadata": {},
     "output_type": "execute_result"
    }
   ],
   "source": [
    "Binomial_tree_AM_S_TB(S0,K,r,T,3,u,d,Optiontype = \"P\")"
   ]
  },
  {
   "cell_type": "markdown",
   "id": "4634c154",
   "metadata": {},
   "source": [
    "# Vector Method\n"
   ]
  },
  {
   "cell_type": "code",
   "execution_count": 7,
   "id": "0c1a6d5b",
   "metadata": {},
   "outputs": [],
   "source": [
    "def Binomial_tree_Fast(S0,K,r,T,N,u,d,Optiontype = \"P\"):\n",
    "    dt = T/N\n",
    "    q = (np.exp(r*dt)-d)/(u-d)\n",
    "    disc = np.exp((-r)*dt)\n",
    "    \n",
    "    #Stock proces st maturity\n",
    "    S = S0 *(d**np.arange(N,-1,-1)) * (u**np.arange(0,N+1,1))\n",
    "        \n",
    "    print(S)\n",
    "    \n",
    "    #Option Payoffs\n",
    "    P = np.maximum(K-S,0)\n",
    "    print(P)\n",
    "        \n",
    "    #Backward discounting pricing\n",
    "    for i in np.arange(N-1,-1,-1):\n",
    "        \n",
    "        S = S0 *(d**np.arange(i,-1,-1)) * (u ** np.arange(0,i+1,1))\n",
    "\n",
    "        P[0:i+1] = disc*(q*P[1:i+2]+(1-q)*P[0:i+1])\n",
    "        P = P[:-1]\n",
    "        P = np.maximum(P, (K-S))\n",
    "        print(P)\n",
    "    \n",
    "    \n",
    "    return P[0]"
   ]
  },
  {
   "cell_type": "code",
   "execution_count": 8,
   "id": "3b304f48",
   "metadata": {},
   "outputs": [
    {
     "name": "stdout",
     "output_type": "stream",
     "text": [
      "[ 75.13148009  90.90909091 110.         133.1       ]\n",
      "[24.86851991  9.09090909  0.          0.        ]\n",
      "[17.3553719   3.72469241  0.        ]\n",
      "[9.23564829 1.52606669]\n",
      "[4.65458875]\n"
     ]
    },
    {
     "data": {
      "text/plain": [
       "4.654588754602527"
      ]
     },
     "execution_count": 8,
     "metadata": {},
     "output_type": "execute_result"
    }
   ],
   "source": [
    "Binomial_tree_Fast(S0,K,r,T,N,u,d,Optiontype = \"P\")\n"
   ]
  },
  {
   "cell_type": "code",
   "execution_count": null,
   "id": "ede49674",
   "metadata": {},
   "outputs": [],
   "source": []
  },
  {
   "cell_type": "code",
   "execution_count": null,
   "id": "83d31df2",
   "metadata": {},
   "outputs": [],
   "source": []
  },
  {
   "cell_type": "code",
   "execution_count": null,
   "id": "544ec2a5",
   "metadata": {},
   "outputs": [],
   "source": []
  },
  {
   "cell_type": "code",
   "execution_count": null,
   "id": "ee4b8584",
   "metadata": {},
   "outputs": [],
   "source": []
  }
 ],
 "metadata": {
  "kernelspec": {
   "display_name": "Python 3 (ipykernel)",
   "language": "python",
   "name": "python3"
  },
  "language_info": {
   "codemirror_mode": {
    "name": "ipython",
    "version": 3
   },
   "file_extension": ".py",
   "mimetype": "text/x-python",
   "name": "python",
   "nbconvert_exporter": "python",
   "pygments_lexer": "ipython3",
   "version": "3.11.5"
  }
 },
 "nbformat": 4,
 "nbformat_minor": 5
}
